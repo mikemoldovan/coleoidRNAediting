{
 "cells": [
  {
   "cell_type": "code",
   "execution_count": 1,
   "metadata": {},
   "outputs": [],
   "source": [
    "from multal_lib import *\n",
    "\n",
    "oct_al = align_parse(\"oct_versus_all_multal.txt\")\n",
    "bim_al = align_parse(\"bim_versus_all_multal.txt\")\n",
    "sep_al = align_parse(\"sep_versus_all_multal.txt\")\n",
    "squ_al = align_parse(\"squ_versus_all_multal.txt\")"
   ]
  },
  {
   "cell_type": "code",
   "execution_count": 19,
   "metadata": {},
   "outputs": [],
   "source": [
    "from Bio import SeqIO\n",
    "import re\n",
    "from os import listdir\n",
    "from os.path import isfile, join\n",
    "\n",
    "def read_sites_data(fname):\n",
    "    file2positions = {}\n",
    "    all_pos = 0\n",
    "    with open(fname) as f:\n",
    "        f.readline()\n",
    "        for line in f:\n",
    "            s = line.strip().split()\n",
    "            name, pos, degree = s[0], int(s[3]), float(s[7]) \n",
    "\n",
    "            if not name in file2positions:\n",
    "                file2positions[name] = {}\n",
    "            file2positions[name][pos] = degree\n",
    "            all_pos += 1\n",
    "    print(all_pos)\n",
    "    return file2positions\n",
    "\n",
    "def get_all_A_pos_for_transcript(fname):    \n",
    "    name2as = {}\n",
    "    name2len = {}\n",
    "    name2unred = {}\n",
    "    seqs = SeqIO.parse(fname, \"fasta\")\n",
    "    for seq in seqs:\n",
    "        name = str(seq.id)\n",
    "        s = str(seq.seq)\n",
    "        co = [m.start()+1 for m in re.finditer('A', s)]\n",
    "        name2as[name] = co\n",
    "        name2len[name] = len(s)\n",
    "    return name2as, name2unred, name2len\n",
    "\n",
    "def read_RNA_sec_structure_coverage(dirname, name2len):\n",
    "    mypath = dirname\n",
    "    onlyfiles = [f for f in listdir(mypath) if isfile(join(mypath, f))]\n",
    "\n",
    "    name2cov = {}\n",
    "    k = 1\n",
    "    for fi in onlyfiles:\n",
    "        if k%1000 == 0: print(k)\n",
    "        with open(join(mypath, fi)) as f:\n",
    "            name = fi.split(\".\")[0]\n",
    "            cov = [0] * name2len[name]\n",
    "            for line in f:\n",
    "                s = line.strip().split()\n",
    "                begin, end, score = int(s[1]), int(s[2]), float(s[4])\n",
    "                for i in range(begin, end):\n",
    "                    cov[i] = min(cov[i], score)\n",
    "            name2cov[name] = cov\n",
    "        k += 1\n",
    "    return name2cov\n",
    "\n",
    "def get_red_stat(file2positions, name2cov, name2len, t, e=100):\n",
    "    red_struc = 0\n",
    "    red_unstruc = 0\n",
    "\n",
    "    for name in name2len:\n",
    "        cov = name2cov[name]\n",
    "        if name in file2positions:\n",
    "            pos2deg = file2positions[name]\n",
    "            for pos in pos2deg:\n",
    "                if pos2deg[pos] < t or pos2deg[pos] > e: continue\n",
    "                pos = pos - 1\n",
    "                if cov[pos] == 0:\n",
    "                    red_unstruc += 1\n",
    "                else:\n",
    "                    red_struc += 1\n",
    "        \n",
    "    a = red_struc/(red_unstruc + red_struc)  \n",
    "    return a, red_unstruc+red_struc"
   ]
  },
  {
   "cell_type": "code",
   "execution_count": 3,
   "metadata": {},
   "outputs": [
    {
     "name": "stdout",
     "output_type": "stream",
     "text": [
      "35878\n",
      "35878\n",
      "16233\n",
      "16233\n",
      "1146\n",
      "1146\n"
     ]
    }
   ],
   "source": [
    "import pandas as pd\n",
    "\n",
    "oct_data = read_sites_data(\"oct_bim2oct_conserved_plus.txt\")\n",
    "bim_data = read_sites_data(\"bim_bim2oct_conserved_plus.txt\")\n",
    "\n",
    "sep_data = read_sites_data(\"sep_sep2squ_conserved_plus.txt\")\n",
    "squ_data = read_sites_data(\"squ_sep2squ_conserved_plus.txt\")\n",
    "\n",
    "oct_all_data = read_sites_data(\"oct_all_conserved_plus.txt\")\n",
    "sep_all_data = read_sites_data(\"sep_all_conserved_plus.txt\")"
   ]
  },
  {
   "cell_type": "code",
   "execution_count": 10,
   "metadata": {},
   "outputs": [
    {
     "name": "stdout",
     "output_type": "stream",
     "text": [
      "1000\n",
      "2000\n",
      "3000\n",
      "4000\n",
      "5000\n",
      "6000\n",
      "7000\n",
      "8000\n",
      "9000\n",
      "10000\n",
      "11000\n",
      "12000\n",
      "13000\n",
      "1000\n",
      "2000\n",
      "3000\n",
      "4000\n",
      "5000\n",
      "6000\n",
      "7000\n",
      "8000\n",
      "9000\n",
      "10000\n",
      "11000\n",
      "12000\n",
      "13000\n",
      "14000\n",
      "1000\n",
      "2000\n",
      "3000\n",
      "4000\n",
      "5000\n",
      "6000\n",
      "7000\n",
      "8000\n",
      "9000\n",
      "10000\n",
      "11000\n",
      "12000\n",
      "13000\n",
      "14000\n",
      "15000\n",
      "16000\n",
      "17000\n",
      "1000\n",
      "2000\n",
      "3000\n",
      "4000\n",
      "5000\n",
      "6000\n",
      "7000\n",
      "8000\n",
      "9000\n",
      "10000\n",
      "11000\n",
      "12000\n"
     ]
    }
   ],
   "source": [
    "names = [\"oct\", \"bim\", \"squ\", \"sep\", \"nau\", \"apl\"]\n",
    "\n",
    "name2as_oct, name2unred_oct, name2len_oct = get_all_A_pos_for_transcript(\"orfs_oct_plus.fa\")\n",
    "name2as_sep, name2unred_sep, name2len_sep = get_all_A_pos_for_transcript(\"orfs_sep_plus.fa\")\n",
    "name2cov_oct = read_RNA_sec_structure_coverage(\"oct\", name2len_oct)\n",
    "name2cov_sep = read_RNA_sec_structure_coverage(\"sep\", name2len_sep)\n",
    "\n",
    "name2as_bim, name2unred_bim, name2len_bim = get_all_A_pos_for_transcript(\"orfs_bim_plus.fa\")\n",
    "name2as_squ, name2unred_squ, name2len_squ = get_all_A_pos_for_transcript(\"orfs_squ_plus.fa\")\n",
    "name2cov_bim = read_RNA_sec_structure_coverage(\"bim\", name2len_bim)\n",
    "name2cov_squ = read_RNA_sec_structure_coverage(\"squ\", name2len_squ)"
   ]
  },
  {
   "cell_type": "code",
   "execution_count": 20,
   "metadata": {},
   "outputs": [
    {
     "name": "stdout",
     "output_type": "stream",
     "text": [
      "[29649.0, 11840.0, 675.0, 3446.5, 1863.5, 180.0, 1531.0, 1011.5, 109.5, 970.0, 974.5, 114.5, 349.0, 594.0, 68.0]\n"
     ]
    }
   ],
   "source": [
    "percentage = []\n",
    "cons_type = []\n",
    "fraction = []\n",
    "all_counts = []\n",
    "\n",
    "for i in range (20, 101, 20): \n",
    "    fr, a = get_red_stat(oct_data, name2cov_oct, name2len_oct, i-20, i)\n",
    "    all_counts.append(a)\n",
    "    fraction.append(fr)\n",
    "    percentage.append(str(i-20) + \"-\" + str(i))\n",
    "    cons_type.append(\"oct-bim\")\n",
    "    \n",
    "    fr, a = get_red_stat(sep_data, name2cov_sep, name2len_sep, i-20, i)\n",
    "    all_counts.append(a)\n",
    "    fraction.append(fr)\n",
    "    percentage.append(str(i-20) + \"-\" + str(i))\n",
    "    cons_type.append(\"sep-squ\")\n",
    "    \n",
    "    fr, a = get_red_stat(oct_all_data, name2cov_oct, name2len_oct, i-20, i)\n",
    "    all_counts.append(a)\n",
    "    fraction.append(fr)\n",
    "    percentage.append(str(i-20) + \"-\" + str(i))\n",
    "    cons_type.append(\"all\")\n",
    "    \n",
    "fraction2 = []\n",
    "all_counts2 = []\n",
    "\n",
    "for i in range (20, 101, 20): \n",
    "    fr, a = get_red_stat(bim_data, name2cov_bim, name2len_bim, i-20, i)\n",
    "    fraction2.append(fr)\n",
    "    all_counts2.append(a)\n",
    "    \n",
    "    fr, a = get_red_stat(squ_data, name2cov_squ, name2len_squ, i-20, i)\n",
    "    fraction2.append(fr)\n",
    "    all_counts2.append(a)\n",
    "    \n",
    "    fr, a = get_red_stat(sep_all_data, name2cov_sep, name2len_sep, i-20, i)\n",
    "    fraction2.append(fr)\n",
    "    all_counts2.append(a)\n",
    "    \n",
    "fraction_new = [(fraction[i] + fraction2[i])/2 for i in range(len(fraction))] \n",
    "all_counts_new = [(all_counts[i] + all_counts2[i])/2 for i in range(len(all_counts))] \n",
    "fraction = fraction_new\n",
    "\n",
    "print(all_counts_new)"
   ]
  },
  {
   "cell_type": "code",
   "execution_count": 30,
   "metadata": {},
   "outputs": [
    {
     "data": {
      "image/png": "[encoded data removed]",
      "text/plain": [
       "<matplotlib.figure.Figure at 0x7f24bc7f05c0>"
      ]
     },
     "metadata": {},
     "output_type": "display_data"
    }
   ],
   "source": [
    "import seaborn as sns\n",
    "import matplotlib as mpl\n",
    "import matplotlib.pyplot as plt\n",
    "%matplotlib inline\n",
    "\n",
    "width, height = 8, 6\n",
    "mpl.rcParams['figure.figsize'] = [width, height]\n",
    "clrs = [\"#BB2020\", \"#0000BB\", \"lightgray\"]\n",
    "\n",
    "\n",
    "d = {\"Editing level (%)\": percentage, \"Type\": cons_type, \"Fraction of structured sites\": fraction}\n",
    "df = pd.DataFrame(data=d)\n",
    "\n",
    "bar = sns.barplot(x=\"Editing level (%)\", y=\"Fraction of structured sites\", hue=\"Type\", data=df, palette=clrs, linewidth=0.5, edgecolor=\".2\")\n",
    "\n",
    "plt.xlabel(\"Editing level (%)\", size=15)\n",
    "plt.ylabel(\"Fraction of structured sites\", size=15)\n",
    "\n",
    "plt.savefig(\"cons.pdf\", format=\"pdf\")\n",
    "plt.show()"
   ]
  },
  {
   "cell_type": "code",
   "execution_count": 24,
   "metadata": {},
   "outputs": [
    {
     "name": "stdout",
     "output_type": "stream",
     "text": [
      "[29649.0, 11840.0, 675.0, 3446.5, 1863.5, 180.0, 1531.0, 1011.5, 109.5, 970.0, 974.5, 114.5, 349.0, 594.0, 68.0]\n",
      "[0.5780919791217533, 0.6476599402717271, 0.6580302341066566, 0.6397347393885309, 0.7021496577242334, 0.7311145510835914, 0.6821016612160349, 0.7448763171339479, 0.7987987987987988, 0.7845927700348432, 0.8173085590903042, 0.7979657882570503, 0.8339445682802709, 0.821971710601749, 0.8090909090909091]\n",
      "\n"
     ]
    }
   ],
   "source": [
    "print(all_counts_new)\n",
    "print(fraction)\n",
    "str_counts = [fraction[i]*all_counts_new[i] for i in range(len(fraction))]\n",
    "nonstr_counts = [(1-fraction[i])*all_counts_new[i] for i in range(len(fraction))]\n",
    "print()"
   ]
  },
  {
   "cell_type": "code",
   "execution_count": 32,
   "metadata": {},
   "outputs": [
    {
     "name": "stdout",
     "output_type": "stream",
     "text": [
      "['0-20', '0-20']\n",
      "[['oct-bim', 'sep-squ']]\n",
      "2.75148347402e-39\n",
      "\n",
      "0-20\n",
      "['all', 'oct-bim']\n",
      "2.35531467462e-05\n",
      "\n",
      "['20-40', '20-40']\n",
      "[['oct-bim', 'sep-squ']]\n",
      "4.41869158622e-06\n",
      "\n",
      "20-40\n",
      "['all', 'oct-bim']\n",
      "0.012874748393\n",
      "\n",
      "['40-60', '40-60']\n",
      "[['oct-bim', 'sep-squ']]\n",
      "0.000711172114807\n",
      "\n",
      "40-60\n",
      "['all', 'oct-bim']\n",
      "0.0132801666763\n",
      "\n"
     ]
    }
   ],
   "source": [
    "import scipy.stats as stats\n",
    "\n",
    "for i in range(5):\n",
    "    for t in range(3):\n",
    "        if t == 2:\n",
    "            ar = [str_counts[i*3 + 2], str_counts[i*3]]\n",
    "            ar2 = [nonstr_counts[i*3 + 2], nonstr_counts[i*3]]\n",
    "            pers = [percentage[i*3 + 2], percentage[i*3]]\n",
    "            cons = [cons_type[i*3 + 2], cons_type[i*3]]\n",
    "        else:\n",
    "            ar = str_counts[i*3 + t: i*3 + t+2]\n",
    "            ar2 = nonstr_counts[i*3 + t: i*3 + t+2]\n",
    "            pers = [percentage[i*3 + t: i*3 + t+2]]\n",
    "            cons = [cons_type[i*3 + t: i*3 + t+2]]\n",
    "        \n",
    "        oddsratio, pvalue = stats.fisher_exact([ar, ar2]) \n",
    "        if pvalue < 0.05:\n",
    "            print(pers)\n",
    "            print(cons)\n",
    "            #print(ar, ar2)\n",
    "            print(pvalue)\n",
    "            print()\n"
   ]
  }
 ],
 "metadata": {
  "kernelspec": {
   "display_name": "Python 3",
   "language": "python",
   "name": "python3"
  },
  "language_info": {
   "codemirror_mode": {
    "name": "ipython",
    "version": 3
   },
   "file_extension": ".py",
   "mimetype": "text/x-python",
   "name": "python",
   "nbconvert_exporter": "python",
   "pygments_lexer": "ipython3",
   "version": "3.5.2"
  }
 },
 "nbformat": 4,
 "nbformat_minor": 1
}
