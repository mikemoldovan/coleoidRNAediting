{
 "cells": [
  {
   "cell_type": "code",
   "execution_count": 1,
   "metadata": {},
   "outputs": [],
   "source": [
    "from Bio import SeqIO\n",
    "import re\n",
    "from os import listdir\n",
    "from os.path import isfile, join\n",
    "import matplotlib as mpl\n",
    "import matplotlib.pyplot as plt\n",
    "import pandas as pd\n",
    "import seaborn as sns\n",
    "from tqdm import tqdm as tqdm # progress bar\n",
    "%matplotlib inline"
   ]
  },
  {
   "cell_type": "markdown",
   "metadata": {},
   "source": [
    "### 1. Read data"
   ]
  },
  {
   "cell_type": "code",
   "execution_count": 2,
   "metadata": {},
   "outputs": [],
   "source": [
    "ROOT_DIR = '.'\n",
    "\n",
    "def get_data(fname):\n",
    "    file2positions = {}\n",
    "    all_pos = 0\n",
    "\n",
    "    with open(join(ROOT_DIR, \"editing_sites_\" + fname + \"_plus.txt\")) as f:\n",
    "        f.readline()\n",
    "        for line in f:\n",
    "            s = line.strip().split()\n",
    "            name, pos, degree = s[0], int(s[3]), float(s[7]) \n",
    "\n",
    "            if not name in file2positions:\n",
    "                file2positions[name] = {}\n",
    "            file2positions[name][pos] = degree\n",
    "            all_pos += 1\n",
    "    print(all_pos)\n",
    "    \n",
    "    name2as = {}\n",
    "    name2len = {}\n",
    "    name2unred = {}\n",
    "    seqs = SeqIO.parse(join(ROOT_DIR, \"orfs_\" + fname + \"_plus.fa\"), \"fasta\")\n",
    "    for seq in seqs:\n",
    "        name = str(seq.id)\n",
    "        s = str(seq.seq)\n",
    "        co = [m.start()+1 for m in re.finditer('A', s)]\n",
    "        name2as[name] = co\n",
    "        name2len[name] = len(s)\n",
    "        name2unred[name] = []\n",
    "        for pos in co:\n",
    "            if not name in file2positions:\n",
    "                name2unred[name] += co\n",
    "                break\n",
    "            if not pos in file2positions[name]:\n",
    "                name2unred[name].append(pos)\n",
    "                \n",
    "    mypath = fname\n",
    "    onlyfiles = [f for f in listdir(mypath) if isfile(join(mypath, f))]\n",
    "\n",
    "    name2cov = {}\n",
    "    k = 1\n",
    "    for fi in tqdm(onlyfiles):\n",
    "        with open(join(mypath, fi)) as f:\n",
    "            name = fi.split(\".\")[0]\n",
    "            cov = [0] * name2len[name]\n",
    "            for line in f:\n",
    "                s = line.strip().split()\n",
    "                begin, end, score = int(s[1]), int(s[2]), float(s[4])\n",
    "                for i in range(begin, end):\n",
    "                    cov[i] = min(cov[i], score)\n",
    "            name2cov[name] = cov\n",
    "        k += 1          \n",
    "        \n",
    "    return file2positions, name2as, name2len, name2cov, name2unred"
   ]
  },
  {
   "cell_type": "markdown",
   "metadata": {},
   "source": [
    "### 2. Count fraction of A-red covered by RNA secondary structure"
   ]
  },
  {
   "cell_type": "code",
   "execution_count": 5,
   "metadata": {},
   "outputs": [],
   "source": [
    "def get_red_stat(file2positions, name2len, name2cov, t, e=100):\n",
    "    red_struc = 0\n",
    "    red_unstruc = 0\n",
    "\n",
    "    for name in name2len:\n",
    "        cov = name2cov[name]\n",
    "        if name in file2positions:\n",
    "            pos2deg = file2positions[name]\n",
    "            for pos in pos2deg:\n",
    "                if pos2deg[pos] < t or pos2deg[pos] > e: continue\n",
    "                pos = pos - 1\n",
    "                if cov[pos] == 0:\n",
    "                    red_unstruc += 1\n",
    "                else:\n",
    "                    red_struc += 1\n",
    "        \n",
    "    a = red_struc/(red_unstruc + red_struc)  \n",
    "    return a\n",
    "\n",
    "def get_unred_stat(name2len, name2cov, name2unred):\n",
    "    unred_struc = 0\n",
    "    unred_unstruc = 0\n",
    "    for name in name2len:\n",
    "        cov = name2cov[name]\n",
    "        unred = name2unred[name]\n",
    "        for pos in unred:\n",
    "            pos = pos - 1\n",
    "            if cov[pos] == 0:\n",
    "                unred_unstruc += 1\n",
    "            else:\n",
    "                unred_struc += 1\n",
    "    b = unred_struc/(unred_unstruc + unred_struc)\n",
    "    return b"
   ]
  },
  {
   "cell_type": "code",
   "execution_count": 4,
   "metadata": {},
   "outputs": [
    {
     "name": "stdout",
     "output_type": "stream",
     "text": [
      "oct\n",
      "117842\n"
     ]
    },
    {
     "name": "stderr",
     "output_type": "stream",
     "text": [
      "100%|██████████| 13005/13005 [00:54<00:00, 252.05it/s]\n"
     ]
    },
    {
     "data": {
      "image/png": "[encoded data removed]",
      "text/plain": [
       "<Figure size 576x432 with 1 Axes>"
      ]
     },
     "metadata": {
      "needs_background": "light"
     },
     "output_type": "display_data"
    },
    {
     "name": "stdout",
     "output_type": "stream",
     "text": [
      "bim\n",
      "76862\n"
     ]
    },
    {
     "ename": "FileNotFoundError",
     "evalue": "[Errno 2] No such file or directory: 'bim'",
     "output_type": "error",
     "traceback": [
      "\u001b[0;31m---------------------------------------------------------------------------\u001b[0m",
      "\u001b[0;31mFileNotFoundError\u001b[0m                         Traceback (most recent call last)",
      "\u001b[0;32m<ipython-input-4-5dcf19db43b9>\u001b[0m in \u001b[0;36m<module>\u001b[0;34m\u001b[0m\n\u001b[1;32m      3\u001b[0m \u001b[0;32mfor\u001b[0m \u001b[0mi\u001b[0m\u001b[0;34m,\u001b[0m \u001b[0mname\u001b[0m \u001b[0;32min\u001b[0m \u001b[0menumerate\u001b[0m\u001b[0;34m(\u001b[0m\u001b[0;34m[\u001b[0m\u001b[0;34m\"oct\"\u001b[0m\u001b[0;34m,\u001b[0m \u001b[0;34m\"bim\"\u001b[0m\u001b[0;34m,\u001b[0m \u001b[0;34m\"squ\"\u001b[0m\u001b[0;34m,\u001b[0m \u001b[0;34m\"sep\"\u001b[0m\u001b[0;34m,\u001b[0m \u001b[0;34m\"apl\"\u001b[0m\u001b[0;34m,\u001b[0m \u001b[0;34m\"nau\"\u001b[0m\u001b[0;34m]\u001b[0m\u001b[0;34m)\u001b[0m\u001b[0;34m:\u001b[0m\u001b[0;34m\u001b[0m\u001b[0m\n\u001b[1;32m      4\u001b[0m     \u001b[0mprint\u001b[0m\u001b[0;34m(\u001b[0m\u001b[0mname\u001b[0m\u001b[0;34m)\u001b[0m\u001b[0;34m\u001b[0m\u001b[0m\n\u001b[0;32m----> 5\u001b[0;31m     \u001b[0mfile2positions\u001b[0m\u001b[0;34m,\u001b[0m \u001b[0mname2as\u001b[0m\u001b[0;34m,\u001b[0m \u001b[0mname2len\u001b[0m\u001b[0;34m,\u001b[0m \u001b[0mname2cov\u001b[0m\u001b[0;34m,\u001b[0m \u001b[0mname2unred\u001b[0m \u001b[0;34m=\u001b[0m \u001b[0mget_data\u001b[0m\u001b[0;34m(\u001b[0m\u001b[0mname\u001b[0m\u001b[0;34m)\u001b[0m\u001b[0;34m\u001b[0m\u001b[0m\n\u001b[0m\u001b[1;32m      6\u001b[0m \u001b[0;34m\u001b[0m\u001b[0m\n\u001b[1;32m      7\u001b[0m     \u001b[0mx\u001b[0m \u001b[0;34m=\u001b[0m \u001b[0mlist\u001b[0m\u001b[0;34m(\u001b[0m\u001b[0mrange\u001b[0m\u001b[0;34m(\u001b[0m\u001b[0;36m99\u001b[0m\u001b[0;34m)\u001b[0m\u001b[0;34m)\u001b[0m\u001b[0;34m\u001b[0m\u001b[0m\n",
      "\u001b[0;32m<ipython-input-2-1c3fde5a6bd8>\u001b[0m in \u001b[0;36mget_data\u001b[0;34m(fname)\u001b[0m\n\u001b[1;32m     36\u001b[0m \u001b[0;34m\u001b[0m\u001b[0m\n\u001b[1;32m     37\u001b[0m     \u001b[0mmypath\u001b[0m \u001b[0;34m=\u001b[0m \u001b[0mfname\u001b[0m\u001b[0;34m\u001b[0m\u001b[0m\n\u001b[0;32m---> 38\u001b[0;31m     \u001b[0monlyfiles\u001b[0m \u001b[0;34m=\u001b[0m \u001b[0;34m[\u001b[0m\u001b[0mf\u001b[0m \u001b[0;32mfor\u001b[0m \u001b[0mf\u001b[0m \u001b[0;32min\u001b[0m \u001b[0mlistdir\u001b[0m\u001b[0;34m(\u001b[0m\u001b[0mmypath\u001b[0m\u001b[0;34m)\u001b[0m \u001b[0;32mif\u001b[0m \u001b[0misfile\u001b[0m\u001b[0;34m(\u001b[0m\u001b[0mjoin\u001b[0m\u001b[0;34m(\u001b[0m\u001b[0mmypath\u001b[0m\u001b[0;34m,\u001b[0m \u001b[0mf\u001b[0m\u001b[0;34m)\u001b[0m\u001b[0;34m)\u001b[0m\u001b[0;34m]\u001b[0m\u001b[0;34m\u001b[0m\u001b[0m\n\u001b[0m\u001b[1;32m     39\u001b[0m \u001b[0;34m\u001b[0m\u001b[0m\n\u001b[1;32m     40\u001b[0m     \u001b[0mname2cov\u001b[0m \u001b[0;34m=\u001b[0m \u001b[0;34m{\u001b[0m\u001b[0;34m}\u001b[0m\u001b[0;34m\u001b[0m\u001b[0m\n",
      "\u001b[0;31mFileNotFoundError\u001b[0m: [Errno 2] No such file or directory: 'bim'"
     ]
    }
   ],
   "source": [
    "colours = [\"#BB2020\", \"#BB2020\", \"#0000BB\", \"#0000BB\", \"#505046\", \"#505046\"]\n",
    "\n",
    "for i, name in enumerate([\"oct\", \"bim\", \"squ\", \"sep\", \"apl\", \"nau\"]):\n",
    "    \n",
    "    print(name)\n",
    "    file2positions, name2as, name2len, name2cov, name2unred = get_data(name)\n",
    "\n",
    "    x = list(range(99))\n",
    "    y = []\n",
    "    z = []\n",
    "    z_item = get_unred_stat(name2len, name2cov, name2unred)\n",
    "    for t in range(99):\n",
    "        y_item = get_red_stat(file2positions, name2len, name2cov, t)\n",
    "        y.append(y_item)\n",
    "        z.append(z_item)\n",
    "        \n",
    "    width, height = 8, 6\n",
    "    mpl.rcParams['figure.figsize'] = [width, height]\n",
    "\n",
    "    plt.plot(x,y, color=colours[i])\n",
    "    plt.plot(x,z, color=\"black\")\n",
    "    plt.xlabel(\"Editing level cut-off (%)\", size=15)\n",
    "    plt.ylabel(\"Fraction of sites in structured segments\", size=15)\n",
    "    plt.legend([\"A in editing sites\", \"A not in editing sites\"], fontsize=14)\n",
    "\n",
    "    plt.savefig(\"Fig1_\" + name + \".pdf\", format=\"pdf\")\n",
    "    plt.show()\n",
    "    plt.close()"
   ]
  },
  {
   "cell_type": "markdown",
   "metadata": {},
   "source": [
    "### 3. Sort editing sites by their influence on protein sequence"
   ]
  },
  {
   "cell_type": "code",
   "execution_count": 16,
   "metadata": {},
   "outputs": [
    {
     "name": "stdout",
     "output_type": "stream",
     "text": [
      "82975\n",
      "28688 54287\n"
     ]
    }
   ],
   "source": [
    "file2positions = {}\n",
    "all_pos = 0\n",
    "with open(\"editing_sites_squ_plus.txt\") as f:\n",
    "    f.readline()\n",
    "    for line in f:\n",
    "        s = line.strip().split()\n",
    "        name, pos, degree = s[0], int(s[3]), float(s[7]) \n",
    "\n",
    "        if not name in file2positions:\n",
    "            file2positions[name] = {}\n",
    "        file2positions[name][pos] = degree\n",
    "        all_pos += 1\n",
    "print(all_pos)\n",
    "\n",
    "data = pd.read_csv(join(ROOT_DIR, \"editing_sites_squ_plus.txt\"), sep=\"\\t\")\n",
    "codon_changes_groups = data.groupby(data['Codon changes'])\n",
    "\n",
    "syn_edits = {}\n",
    "non_syn_edits = {}\n",
    "\n",
    "for group in codon_changes_groups:\n",
    "    if group[0] == \"syn\":\n",
    "        syn_edits.update(group[1].T.to_dict())\n",
    "    else:\n",
    "        non_syn_edits.update(group[1].T.to_dict())\n",
    "      \n",
    "print(len(syn_edits), len(non_syn_edits))    "
   ]
  },
  {
   "cell_type": "code",
   "execution_count": 17,
   "metadata": {},
   "outputs": [],
   "source": [
    "file2positions_syn = {fname:{syn_edits[h][\"Editing location inside sequence\"]:syn_edits[h][\"Editing levels [%] \"] for h in syn_edits if syn_edits[h][\"#Trinity name\"] == fname} for fname in file2positions}\n",
    "file2positions_nonsyn = {fname:{non_syn_edits[h][\"Editing location inside sequence\"]:non_syn_edits[h][\"Editing levels [%] \"] for h in non_syn_edits if non_syn_edits[h][\"#Trinity name\"] == fname} for fname in file2positions}"
   ]
  },
  {
   "cell_type": "markdown",
   "metadata": {},
   "source": [
    "### 5. Plot histograms of structured fractions"
   ]
  },
  {
   "cell_type": "code",
   "execution_count": 19,
   "metadata": {},
   "outputs": [
    {
     "data": {
      "image/png": "[encoded data removed]",
      "text/plain": [
       "<matplotlib.figure.Figure at 0x7f7644ae2ef0>"
      ]
     },
     "metadata": {},
     "output_type": "display_data"
    }
   ],
   "source": [
    "syn_percentage = []\n",
    "syn_type = []\n",
    "syn_str_fraction = []\n",
    "\n",
    "for i in range (20, 101, 20):\n",
    "    fraction = get_red_stat(file2positions_syn, i-20, i)\n",
    "    syn_str_fraction.append(fraction)\n",
    "    syn_percentage.append(str(i-20) + \"-\" + str(i))\n",
    "    syn_type.append(\"synonymous\")\n",
    "    \n",
    "non_syn_percentage = []\n",
    "non_syn_type = []\n",
    "non_syn_str_fraction = []\n",
    "\n",
    "for i in range (20, 101, 20):\n",
    "    fraction = get_red_stat(file2positions_nonsyn, i-20, i)\n",
    "    non_syn_str_fraction.append(fraction)\n",
    "    non_syn_percentage.append(str(i-20) + \"-\" + str(i))\n",
    "    non_syn_type.append(\"nonsynonymous\")   \n",
    "    \n",
    "d = {\"Editing level (%)\": syn_percentage + non_syn_percentage, \"Type\": syn_type + non_syn_type, \"Fraction of structured sites\": syn_str_fraction + non_syn_str_fraction}\n",
    "df = pd.DataFrame(data=d)\n",
    "\n",
    "bar = sns.barplot(x=\"Editing level (%)\", y=\"Fraction of structured sites\", hue=\"Type\", data=df)\n",
    "plt.plot(list(range(-1, 6)), [get_unred_stat()]*7, '--k')\n",
    "\n",
    "plt.xlabel(\"Editing level (%)\", size=15)\n",
    "plt.ylabel(\"Fraction of structured sites\", size=15)\n",
    "\n",
    "plt.show()"
   ]
  }
 ],
 "metadata": {
  "kernelspec": {
   "display_name": "Python 3",
   "language": "python",
   "name": "python3"
  },
  "language_info": {
   "codemirror_mode": {
    "name": "ipython",
    "version": 3
   },
   "file_extension": ".py",
   "mimetype": "text/x-python",
   "name": "python",
   "nbconvert_exporter": "python",
   "pygments_lexer": "ipython3",
   "version": "3.5.2"
  }
 },
 "nbformat": 4,
 "nbformat_minor": 1
}
